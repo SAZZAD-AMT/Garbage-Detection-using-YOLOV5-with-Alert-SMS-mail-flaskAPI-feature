{
 "cells": [
  {
   "cell_type": "code",
   "execution_count": 1,
   "metadata": {},
   "outputs": [
    {
     "name": "stdout",
     "output_type": "stream",
     "text": [
      "c:\\Users\\Administrator\\Desktop\\XX\\yolov4\n",
      "t 3"
     ]
    },
    {
     "name": "stderr",
     "output_type": "stream",
     "text": [
      "\u001b[34m\u001b[1mdetect: \u001b[0mweights=['runs/train/exp/weights/best.pt'], source=0, data=data\\coco128.yaml, imgsz=[416, 416], conf_thres=0.67, iou_thres=0.45, max_det=1000, device=, view_img=False, save_txt=False, save_conf=False, save_crop=False, nosave=False, classes=None, agnostic_nms=False, augment=False, visualize=False, update=False, project=runs\\detect, name=exp, exist_ok=False, line_thickness=3, hide_labels=False, hide_conf=False, half=False, dnn=False, vid_stride=1\n",
      "YOLOv5  v7.0-53-g65071da Python-3.9.5 torch-1.13.1+cpu CPU\n",
      "\n",
      "Fusing layers... \n",
      "Model summary: 157 layers, 7015519 parameters, 0 gradients, 15.8 GFLOPs\n",
      "1/1: 0...  Success (inf frames 640x480 at 30.00 FPS)\n",
      "\n",
      "0: 320x416 (no detections), 236.5ms\n",
      "0: 320x416 (no detections), 235.5ms\n",
      "0: 320x416 (no detections), 215.8ms\n",
      "0: 320x416 (no detections), 201.7ms\n",
      "0: 320x416 (no detections), 205.2ms\n",
      "0: 320x416 (no detections), 192.6ms\n",
      "0: 320x416 (no detections), 194.6ms\n",
      "0: 320x416 (no detections), 201.6ms\n",
      "0: 320x416 (no detections), 204.6ms\n",
      "0: 320x416 (no detections), 195.3ms\n",
      "0: 320x416 (no detections), 193.3ms\n",
      "0: 320x416 (no detections), 221.1ms\n",
      "0: 320x416 (no detections), 224.5ms\n",
      "0: 320x416 (no detections), 199.6ms\n",
      "0: 320x416 1 bottle, 210.2ms\n",
      "0: 320x416 (no detections), 229.1ms\n",
      "0: 320x416 (no detections), 209.7ms\n",
      "0: 320x416 (no detections), 205.9ms\n",
      "0: 320x416 (no detections), 209.5ms\n",
      "0: 320x416 (no detections), 193.8ms\n",
      "0: 320x416 (no detections), 201.0ms\n",
      "0: 320x416 (no detections), 210.7ms\n",
      "0: 320x416 (no detections), 203.4ms\n",
      "0: 320x416 (no detections), 192.3ms\n",
      "0: 320x416 1 bottle, 209.0ms\n",
      "0: 320x416 1 bottle, 198.2ms\n",
      "0: 320x416 1 bottle, 208.6ms\n",
      "0: 320x416 1 bottle, 200.5ms\n",
      "0: 320x416 1 bottle, 211.9ms\n",
      "0: 320x416 1 bottle, 183.4ms\n",
      "0: 320x416 1 bottle, 194.6ms\n",
      "0: 320x416 1 bottle, 191.0ms\n",
      "0: 320x416 1 bottle, 205.4ms\n",
      "0: 320x416 1 bottle, 185.3ms\n",
      "0: 320x416 1 bottle, 242.6ms\n",
      "0: 320x416 (no detections), 195.8ms\n",
      "0: 320x416 (no detections), 196.8ms\n",
      "0: 320x416 (no detections), 197.1ms\n",
      "0: 320x416 (no detections), 197.7ms\n",
      "0: 320x416 (no detections), 206.8ms\n",
      "0: 320x416 (no detections), 192.5ms\n",
      "0: 320x416 (no detections), 202.6ms\n",
      "0: 320x416 (no detections), 217.2ms\n",
      "0: 320x416 (no detections), 210.2ms\n",
      "0: 320x416 (no detections), 203.8ms\n",
      "0: 320x416 (no detections), 208.6ms\n",
      "0: 320x416 (no detections), 206.7ms\n",
      "0: 320x416 (no detections), 202.4ms\n",
      "0: 320x416 1 bottle, 214.4ms\n",
      "0: 320x416 1 bottle, 191.5ms\n",
      "0: 320x416 1 bottle, 191.0ms\n",
      "0: 320x416 (no detections), 211.3ms\n",
      "0: 320x416 (no detections), 210.6ms\n",
      "0: 320x416 (no detections), 178.3ms\n",
      "0: 320x416 1 bottle, 191.2ms\n",
      "0: 320x416 (no detections), 204.7ms\n",
      "0: 320x416 (no detections), 190.1ms\n",
      "0: 320x416 (no detections), 191.9ms\n",
      "0: 320x416 (no detections), 223.3ms\n",
      "0: 320x416 (no detections), 217.9ms\n",
      "0: 320x416 (no detections), 209.7ms\n",
      "0: 320x416 (no detections), 207.4ms\n",
      "0: 320x416 (no detections), 193.0ms\n",
      "0: 320x416 (no detections), 198.1ms\n",
      "0: 320x416 (no detections), 198.2ms\n",
      "0: 320x416 (no detections), 205.3ms\n",
      "0: 320x416 (no detections), 208.9ms\n",
      "0: 320x416 (no detections), 238.1ms\n",
      "0: 320x416 (no detections), 224.6ms\n",
      "0: 320x416 (no detections), 196.1ms\n",
      "0: 320x416 (no detections), 265.1ms\n",
      "Speed: 1.0ms pre-process, 205.9ms inference, 0.4ms NMS per image at shape (1, 3, 416, 416)\n",
      "Results saved to \u001b[1mruns\\detect\\exp37\u001b[0m\n"
     ]
    },
    {
     "name": "stdout",
     "output_type": "stream",
     "text": [
      "\n"
     ]
    }
   ],
   "source": [
    "%cd yolov4\n",
    "!python detect.py --weights runs/train/exp/weights/best.pt --img 416 --conf 0.67 --source 0"
   ]
  }
 ],
 "metadata": {
  "kernelspec": {
   "display_name": "Python 3",
   "language": "python",
   "name": "python3"
  },
  "language_info": {
   "codemirror_mode": {
    "name": "ipython",
    "version": 3
   },
   "file_extension": ".py",
   "mimetype": "text/x-python",
   "name": "python",
   "nbconvert_exporter": "python",
   "pygments_lexer": "ipython3",
   "version": "3.9.5"
  },
  "orig_nbformat": 4
 },
 "nbformat": 4,
 "nbformat_minor": 2
}
